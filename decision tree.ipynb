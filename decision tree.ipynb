{
 "cells": [
  {
   "cell_type": "code",
   "execution_count": 198,
   "metadata": {},
   "outputs": [],
   "source": [
    "import numpy as np\n",
    "from sklearn import tree\n",
    "import time\n",
    "import pandas as pd\n",
    "import datetime"
   ]
  },
  {
   "cell_type": "code",
   "execution_count": 199,
   "metadata": {},
   "outputs": [
    {
     "data": {
      "text/html": [
       "<div>\n",
       "<style scoped>\n",
       "    .dataframe tbody tr th:only-of-type {\n",
       "        vertical-align: middle;\n",
       "    }\n",
       "\n",
       "    .dataframe tbody tr th {\n",
       "        vertical-align: top;\n",
       "    }\n",
       "\n",
       "    .dataframe thead th {\n",
       "        text-align: right;\n",
       "    }\n",
       "</style>\n",
       "<table border=\"1\" class=\"dataframe\">\n",
       "  <thead>\n",
       "    <tr style=\"text-align: right;\">\n",
       "      <th></th>\n",
       "      <th>id</th>\n",
       "      <th>ad</th>\n",
       "      <th>link</th>\n",
       "      <th>timestamp</th>\n",
       "      <th>checkout</th>\n",
       "      <th>order_placed</th>\n",
       "      <th>grp</th>\n",
       "      <th>funnel_level</th>\n",
       "    </tr>\n",
       "  </thead>\n",
       "  <tbody>\n",
       "    <tr>\n",
       "      <th>0</th>\n",
       "      <td>session446676598812</td>\n",
       "      <td>ad412316860435</td>\n",
       "      <td>link1288490188810</td>\n",
       "      <td>2018-04-30T14:39:22.000-04:00</td>\n",
       "      <td>1</td>\n",
       "      <td>1</td>\n",
       "      <td>grp936302870529</td>\n",
       "      <td>lower</td>\n",
       "    </tr>\n",
       "    <tr>\n",
       "      <th>1</th>\n",
       "      <td>session60129542152</td>\n",
       "      <td>ad584115552306</td>\n",
       "      <td>link1288490188810</td>\n",
       "      <td>2018-04-30T08:39:23.000-04:00</td>\n",
       "      <td>1</td>\n",
       "      <td>1</td>\n",
       "      <td>grp936302870529</td>\n",
       "      <td>lower</td>\n",
       "    </tr>\n",
       "    <tr>\n",
       "      <th>2</th>\n",
       "      <td>session1511828488251</td>\n",
       "      <td>ad1056561954841</td>\n",
       "      <td>link1288490188810</td>\n",
       "      <td>2018-04-30T17:24:01.000-04:00</td>\n",
       "      <td>1</td>\n",
       "      <td>1</td>\n",
       "      <td>grp936302870529</td>\n",
       "      <td>lower</td>\n",
       "    </tr>\n",
       "    <tr>\n",
       "      <th>3</th>\n",
       "      <td>session1142461300754</td>\n",
       "      <td>ad1666447310876</td>\n",
       "      <td>link1288490188810</td>\n",
       "      <td>2018-04-30T10:42:57.000-04:00</td>\n",
       "      <td>1</td>\n",
       "      <td>1</td>\n",
       "      <td>grp936302870529</td>\n",
       "      <td>lower</td>\n",
       "    </tr>\n",
       "    <tr>\n",
       "      <th>4</th>\n",
       "      <td>session1142461300754</td>\n",
       "      <td>ad1666447310876</td>\n",
       "      <td>link1288490188810</td>\n",
       "      <td>2018-04-30T10:43:19.000-04:00</td>\n",
       "      <td>1</td>\n",
       "      <td>1</td>\n",
       "      <td>grp936302870529</td>\n",
       "      <td>lower</td>\n",
       "    </tr>\n",
       "  </tbody>\n",
       "</table>\n",
       "</div>"
      ],
      "text/plain": [
       "                     id               ad               link  \\\n",
       "0   session446676598812   ad412316860435  link1288490188810   \n",
       "1    session60129542152   ad584115552306  link1288490188810   \n",
       "2  session1511828488251  ad1056561954841  link1288490188810   \n",
       "3  session1142461300754  ad1666447310876  link1288490188810   \n",
       "4  session1142461300754  ad1666447310876  link1288490188810   \n",
       "\n",
       "                       timestamp  checkout  order_placed              grp  \\\n",
       "0  2018-04-30T14:39:22.000-04:00         1             1  grp936302870529   \n",
       "1  2018-04-30T08:39:23.000-04:00         1             1  grp936302870529   \n",
       "2  2018-04-30T17:24:01.000-04:00         1             1  grp936302870529   \n",
       "3  2018-04-30T10:42:57.000-04:00         1             1  grp936302870529   \n",
       "4  2018-04-30T10:43:19.000-04:00         1             1  grp936302870529   \n",
       "\n",
       "  funnel_level  \n",
       "0        lower  \n",
       "1        lower  \n",
       "2        lower  \n",
       "3        lower  \n",
       "4        lower  "
      ]
     },
     "execution_count": 199,
     "metadata": {},
     "output_type": "execute_result"
    }
   ],
   "source": [
    "df=pd.read_csv(\"FullDataSet/training_data.csv\")\n",
    "df.head()"
   ]
  },
  {
   "cell_type": "code",
   "execution_count": 200,
   "metadata": {
    "scrolled": true
   },
   "outputs": [
    {
     "data": {
      "text/html": [
       "<div>\n",
       "<style scoped>\n",
       "    .dataframe tbody tr th:only-of-type {\n",
       "        vertical-align: middle;\n",
       "    }\n",
       "\n",
       "    .dataframe tbody tr th {\n",
       "        vertical-align: top;\n",
       "    }\n",
       "\n",
       "    .dataframe thead th {\n",
       "        text-align: right;\n",
       "    }\n",
       "</style>\n",
       "<table border=\"1\" class=\"dataframe\">\n",
       "  <thead>\n",
       "    <tr style=\"text-align: right;\">\n",
       "      <th></th>\n",
       "      <th>id</th>\n",
       "      <th>ad</th>\n",
       "      <th>link</th>\n",
       "      <th>timestamp</th>\n",
       "      <th>checkout</th>\n",
       "      <th>order_placed</th>\n",
       "      <th>grp</th>\n",
       "      <th>funnel_level</th>\n",
       "    </tr>\n",
       "  </thead>\n",
       "  <tbody>\n",
       "    <tr>\n",
       "      <th>0</th>\n",
       "      <td>session446676598812</td>\n",
       "      <td>ad412316860435</td>\n",
       "      <td>link1288490188810</td>\n",
       "      <td>14</td>\n",
       "      <td>1</td>\n",
       "      <td>1</td>\n",
       "      <td>grp936302870529</td>\n",
       "      <td>lower</td>\n",
       "    </tr>\n",
       "    <tr>\n",
       "      <th>1</th>\n",
       "      <td>session60129542152</td>\n",
       "      <td>ad584115552306</td>\n",
       "      <td>link1288490188810</td>\n",
       "      <td>08</td>\n",
       "      <td>1</td>\n",
       "      <td>1</td>\n",
       "      <td>grp936302870529</td>\n",
       "      <td>lower</td>\n",
       "    </tr>\n",
       "    <tr>\n",
       "      <th>2</th>\n",
       "      <td>session1511828488251</td>\n",
       "      <td>ad1056561954841</td>\n",
       "      <td>link1288490188810</td>\n",
       "      <td>17</td>\n",
       "      <td>1</td>\n",
       "      <td>1</td>\n",
       "      <td>grp936302870529</td>\n",
       "      <td>lower</td>\n",
       "    </tr>\n",
       "    <tr>\n",
       "      <th>3</th>\n",
       "      <td>session1142461300754</td>\n",
       "      <td>ad1666447310876</td>\n",
       "      <td>link1288490188810</td>\n",
       "      <td>10</td>\n",
       "      <td>1</td>\n",
       "      <td>1</td>\n",
       "      <td>grp936302870529</td>\n",
       "      <td>lower</td>\n",
       "    </tr>\n",
       "    <tr>\n",
       "      <th>4</th>\n",
       "      <td>session1142461300754</td>\n",
       "      <td>ad1666447310876</td>\n",
       "      <td>link1288490188810</td>\n",
       "      <td>10</td>\n",
       "      <td>1</td>\n",
       "      <td>1</td>\n",
       "      <td>grp936302870529</td>\n",
       "      <td>lower</td>\n",
       "    </tr>\n",
       "  </tbody>\n",
       "</table>\n",
       "</div>"
      ],
      "text/plain": [
       "                     id               ad               link timestamp  \\\n",
       "0   session446676598812   ad412316860435  link1288490188810        14   \n",
       "1    session60129542152   ad584115552306  link1288490188810        08   \n",
       "2  session1511828488251  ad1056561954841  link1288490188810        17   \n",
       "3  session1142461300754  ad1666447310876  link1288490188810        10   \n",
       "4  session1142461300754  ad1666447310876  link1288490188810        10   \n",
       "\n",
       "   checkout  order_placed              grp funnel_level  \n",
       "0         1             1  grp936302870529        lower  \n",
       "1         1             1  grp936302870529        lower  \n",
       "2         1             1  grp936302870529        lower  \n",
       "3         1             1  grp936302870529        lower  \n",
       "4         1             1  grp936302870529        lower  "
      ]
     },
     "execution_count": 200,
     "metadata": {},
     "output_type": "execute_result"
    }
   ],
   "source": [
    "df['timestamp']=df.timestamp.str.split('T').str[-1].str.split(':').str[0]\n",
    "df.head()"
   ]
  },
  {
   "cell_type": "code",
   "execution_count": 201,
   "metadata": {},
   "outputs": [
    {
     "data": {
      "text/html": [
       "<div>\n",
       "<style scoped>\n",
       "    .dataframe tbody tr th:only-of-type {\n",
       "        vertical-align: middle;\n",
       "    }\n",
       "\n",
       "    .dataframe tbody tr th {\n",
       "        vertical-align: top;\n",
       "    }\n",
       "\n",
       "    .dataframe thead th {\n",
       "        text-align: right;\n",
       "    }\n",
       "</style>\n",
       "<table border=\"1\" class=\"dataframe\">\n",
       "  <thead>\n",
       "    <tr style=\"text-align: right;\">\n",
       "      <th></th>\n",
       "      <th>id</th>\n",
       "      <th>ad</th>\n",
       "      <th>link</th>\n",
       "      <th>timestamp</th>\n",
       "      <th>grp</th>\n",
       "      <th>funnel_level</th>\n",
       "    </tr>\n",
       "  </thead>\n",
       "  <tbody>\n",
       "    <tr>\n",
       "      <th>0</th>\n",
       "      <td>session240518168612</td>\n",
       "      <td>ad678604832787</td>\n",
       "      <td>link1288490188810</td>\n",
       "      <td>16</td>\n",
       "      <td>grp936302870529</td>\n",
       "      <td>lower</td>\n",
       "    </tr>\n",
       "    <tr>\n",
       "      <th>1</th>\n",
       "      <td>session876173328405</td>\n",
       "      <td>ad1451698946059</td>\n",
       "      <td>link1288490188810</td>\n",
       "      <td>12</td>\n",
       "      <td>grp936302870529</td>\n",
       "      <td>lower</td>\n",
       "    </tr>\n",
       "    <tr>\n",
       "      <th>2</th>\n",
       "      <td>session1382979469382</td>\n",
       "      <td>ad1468878815242</td>\n",
       "      <td>link1288490188810</td>\n",
       "      <td>20</td>\n",
       "      <td>grp936302870529</td>\n",
       "      <td>lower</td>\n",
       "    </tr>\n",
       "    <tr>\n",
       "      <th>3</th>\n",
       "      <td>session927712936010</td>\n",
       "      <td>ad64</td>\n",
       "      <td>link1288490188800</td>\n",
       "      <td>21</td>\n",
       "      <td>grp111669149696</td>\n",
       "      <td>lower</td>\n",
       "    </tr>\n",
       "    <tr>\n",
       "      <th>4</th>\n",
       "      <td>session970662608923</td>\n",
       "      <td>ad17179869199</td>\n",
       "      <td>link1288490188800</td>\n",
       "      <td>15</td>\n",
       "      <td>grp111669149696</td>\n",
       "      <td>lower</td>\n",
       "    </tr>\n",
       "  </tbody>\n",
       "</table>\n",
       "</div>"
      ],
      "text/plain": [
       "                     id               ad               link timestamp  \\\n",
       "0   session240518168612   ad678604832787  link1288490188810        16   \n",
       "1   session876173328405  ad1451698946059  link1288490188810        12   \n",
       "2  session1382979469382  ad1468878815242  link1288490188810        20   \n",
       "3   session927712936010             ad64  link1288490188800        21   \n",
       "4   session970662608923    ad17179869199  link1288490188800        15   \n",
       "\n",
       "               grp funnel_level  \n",
       "0  grp936302870529        lower  \n",
       "1  grp936302870529        lower  \n",
       "2  grp936302870529        lower  \n",
       "3  grp111669149696        lower  \n",
       "4  grp111669149696        lower  "
      ]
     },
     "execution_count": 201,
     "metadata": {},
     "output_type": "execute_result"
    }
   ],
   "source": [
    "test=pd.read_csv(\"./FullDataSet/test_data .csv\")\n",
    "test['timestamp']=test.timestamp.str.split('T').str[-1].str.split(':').str[0]\n",
    "test.head()"
   ]
  },
  {
   "cell_type": "code",
   "execution_count": 202,
   "metadata": {},
   "outputs": [],
   "source": [
    "Y=df[['checkout','order_placed']]\n",
    "X=df.drop(columns=['checkout','order_placed','id'])\n",
    "test_change=test.drop(columns=['id'])"
   ]
  },
  {
   "cell_type": "code",
   "execution_count": 203,
   "metadata": {},
   "outputs": [
    {
     "data": {
      "text/plain": [
       "((49414, 5), (199410, 5))"
      ]
     },
     "execution_count": 203,
     "metadata": {},
     "output_type": "execute_result"
    }
   ],
   "source": [
    "test_change.shape,X.shape"
   ]
  },
  {
   "cell_type": "code",
   "execution_count": 204,
   "metadata": {},
   "outputs": [
    {
     "data": {
      "text/plain": [
       "(     ad  link  timestamp  grp  funnel_level\n",
       " 0  7834  1048         14  101             0\n",
       " 1  9223  1048          8  101             0\n",
       " 2   496  1048         17  101             0\n",
       " 3  5384  1048         10  101             0\n",
       " 4  5384  1048         10  101             0,\n",
       "                      id               ad               link timestamp  \\\n",
       " 0   session240518168612   ad678604832787  link1288490188810        16   \n",
       " 1   session876173328405  ad1451698946059  link1288490188810        12   \n",
       " 2  session1382979469382  ad1468878815242  link1288490188810        20   \n",
       " 3   session927712936010             ad64  link1288490188800        21   \n",
       " 4   session970662608923    ad17179869199  link1288490188800        15   \n",
       " \n",
       "                grp funnel_level  \n",
       " 0  grp936302870529        lower  \n",
       " 1  grp936302870529        lower  \n",
       " 2  grp936302870529        lower  \n",
       " 3  grp111669149696        lower  \n",
       " 4  grp111669149696        lower  ,\n",
       "      ad  link  timestamp  grp  funnel_level\n",
       " 0  9974  1048         16  101             0\n",
       " 1  3634  1048         12  101             0\n",
       " 2  3823  1048         20  101             0\n",
       " 3  9697  1037         21   11             0\n",
       " 4  5840  1037         15   11             0)"
      ]
     },
     "execution_count": 204,
     "metadata": {},
     "output_type": "execute_result"
    }
   ],
   "source": [
    "from sklearn import preprocessing\n",
    "le = preprocessing.LabelEncoder()\n",
    "appended=X.append(test_change)\n",
    "\n",
    "for column_name in X.columns:\n",
    "    le.fit(appended[column_name].astype(str))  \n",
    "    X[column_name]=le.transform(X[column_name].astype(str))\n",
    "    test_change[column_name]=le.transform(test_change[column_name].astype(str))\n",
    "X.head(),test.head(),test_change.head()"
   ]
  },
  {
   "cell_type": "markdown",
   "metadata": {},
   "source": [
    "## order places in particualr hours"
   ]
  },
  {
   "cell_type": "code",
   "execution_count": 205,
   "metadata": {},
   "outputs": [
    {
     "name": "stderr",
     "output_type": "stream",
     "text": [
      "C:\\Users\\Aanchal\\Anaconda3\\envs\\tensorflow-gpu\\lib\\site-packages\\ipykernel_launcher.py:15: UserWarning: Boolean Series key will be reindexed to match DataFrame index.\n",
      "  from ipykernel import kernelapp as app\n"
     ]
    },
    {
     "data": {
      "image/png": "[encoded data removed]",
      "text/plain": [
       "<Figure size 432x288 with 1 Axes>"
      ]
     },
     "metadata": {
      "needs_background": "light"
     },
     "output_type": "display_data"
    }
   ],
   "source": [
    "import matplotlib.pyplot as plt\n",
    "fig=plt.figure()\n",
    "ax=fig.add_subplot(111)\n",
    "\n",
    "\n",
    "order_count = {}\n",
    "for x in df.funnel_level.unique():\n",
    "    order_count[x]=df[df.funnel_level==x]['order_placed'].sum()\n",
    "order_count=sorted(order_count.items())\n",
    "x,y=zip(*order_count)\n",
    "ax.bar(x,y,color='blue')\n",
    "\n",
    "order_count0 = {}\n",
    "for x in df.funnel_level.unique():\n",
    "    order_count0[x]=df[df.funnel_level==x][df['order_placed']==0]['id'].count()\n",
    "order_count0=sorted(order_count0.items())\n",
    "\n",
    "x0,y0=zip(*order_count0)\n",
    "ax.bar(x0,y0,bottom=y,color='red')\n",
    "\n",
    "       \n",
    "       \n",
    "plt.show()"
   ]
  },
  {
   "cell_type": "code",
   "execution_count": 206,
   "metadata": {},
   "outputs": [],
   "source": [
    "clf = tree.DecisionTreeClassifier()\n",
    "clf = clf.fit(X,Y)"
   ]
  },
  {
   "cell_type": "code",
   "execution_count": 207,
   "metadata": {},
   "outputs": [
    {
     "data": {
      "text/plain": [
       "array([[1., 1.],\n",
       "       [1., 1.],\n",
       "       [1., 1.],\n",
       "       ...,\n",
       "       [1., 0.],\n",
       "       [0., 0.],\n",
       "       [0., 0.]])"
      ]
     },
     "execution_count": 207,
     "metadata": {},
     "output_type": "execute_result"
    }
   ],
   "source": [
    "clf.predict(X)"
   ]
  },
  {
   "cell_type": "code",
   "execution_count": 208,
   "metadata": {},
   "outputs": [
    {
     "data": {
      "text/plain": [
       "0.9050699563712953"
      ]
     },
     "execution_count": 208,
     "metadata": {},
     "output_type": "execute_result"
    }
   ],
   "source": [
    "clf.score(X,Y)"
   ]
  },
  {
   "cell_type": "code",
   "execution_count": 209,
   "metadata": {},
   "outputs": [],
   "source": [
    "rslt=clf.predict(test_change)"
   ]
  },
  {
   "cell_type": "code",
   "execution_count": 210,
   "metadata": {},
   "outputs": [
    {
     "data": {
      "text/html": [
       "<div>\n",
       "<style scoped>\n",
       "    .dataframe tbody tr th:only-of-type {\n",
       "        vertical-align: middle;\n",
       "    }\n",
       "\n",
       "    .dataframe tbody tr th {\n",
       "        vertical-align: top;\n",
       "    }\n",
       "\n",
       "    .dataframe thead th {\n",
       "        text-align: right;\n",
       "    }\n",
       "</style>\n",
       "<table border=\"1\" class=\"dataframe\">\n",
       "  <thead>\n",
       "    <tr style=\"text-align: right;\">\n",
       "      <th></th>\n",
       "      <th>id</th>\n",
       "      <th>ad</th>\n",
       "      <th>link</th>\n",
       "      <th>timestamp</th>\n",
       "      <th>grp</th>\n",
       "      <th>funnel_level</th>\n",
       "    </tr>\n",
       "  </thead>\n",
       "  <tbody>\n",
       "    <tr>\n",
       "      <th>0</th>\n",
       "      <td>session240518168612</td>\n",
       "      <td>ad678604832787</td>\n",
       "      <td>link1288490188810</td>\n",
       "      <td>16</td>\n",
       "      <td>grp936302870529</td>\n",
       "      <td>lower</td>\n",
       "    </tr>\n",
       "    <tr>\n",
       "      <th>1</th>\n",
       "      <td>session876173328405</td>\n",
       "      <td>ad1451698946059</td>\n",
       "      <td>link1288490188810</td>\n",
       "      <td>12</td>\n",
       "      <td>grp936302870529</td>\n",
       "      <td>lower</td>\n",
       "    </tr>\n",
       "    <tr>\n",
       "      <th>2</th>\n",
       "      <td>session1382979469382</td>\n",
       "      <td>ad1468878815242</td>\n",
       "      <td>link1288490188810</td>\n",
       "      <td>20</td>\n",
       "      <td>grp936302870529</td>\n",
       "      <td>lower</td>\n",
       "    </tr>\n",
       "    <tr>\n",
       "      <th>3</th>\n",
       "      <td>session927712936010</td>\n",
       "      <td>ad64</td>\n",
       "      <td>link1288490188800</td>\n",
       "      <td>21</td>\n",
       "      <td>grp111669149696</td>\n",
       "      <td>lower</td>\n",
       "    </tr>\n",
       "    <tr>\n",
       "      <th>4</th>\n",
       "      <td>session970662608923</td>\n",
       "      <td>ad17179869199</td>\n",
       "      <td>link1288490188800</td>\n",
       "      <td>15</td>\n",
       "      <td>grp111669149696</td>\n",
       "      <td>lower</td>\n",
       "    </tr>\n",
       "  </tbody>\n",
       "</table>\n",
       "</div>"
      ],
      "text/plain": [
       "                     id               ad               link timestamp  \\\n",
       "0   session240518168612   ad678604832787  link1288490188810        16   \n",
       "1   session876173328405  ad1451698946059  link1288490188810        12   \n",
       "2  session1382979469382  ad1468878815242  link1288490188810        20   \n",
       "3   session927712936010             ad64  link1288490188800        21   \n",
       "4   session970662608923    ad17179869199  link1288490188800        15   \n",
       "\n",
       "               grp funnel_level  \n",
       "0  grp936302870529        lower  \n",
       "1  grp936302870529        lower  \n",
       "2  grp936302870529        lower  \n",
       "3  grp111669149696        lower  \n",
       "4  grp111669149696        lower  "
      ]
     },
     "execution_count": 210,
     "metadata": {},
     "output_type": "execute_result"
    }
   ],
   "source": [
    "test.size\n",
    "test.head()"
   ]
  },
  {
   "cell_type": "code",
   "execution_count": 211,
   "metadata": {},
   "outputs": [
    {
     "data": {
      "text/html": [
       "<div>\n",
       "<style scoped>\n",
       "    .dataframe tbody tr th:only-of-type {\n",
       "        vertical-align: middle;\n",
       "    }\n",
       "\n",
       "    .dataframe tbody tr th {\n",
       "        vertical-align: top;\n",
       "    }\n",
       "\n",
       "    .dataframe thead th {\n",
       "        text-align: right;\n",
       "    }\n",
       "</style>\n",
       "<table border=\"1\" class=\"dataframe\">\n",
       "  <thead>\n",
       "    <tr style=\"text-align: right;\">\n",
       "      <th></th>\n",
       "      <th>id</th>\n",
       "      <th>order_placed</th>\n",
       "    </tr>\n",
       "  </thead>\n",
       "  <tbody>\n",
       "    <tr>\n",
       "      <th>0</th>\n",
       "      <td>session240518168612</td>\n",
       "      <td>1</td>\n",
       "    </tr>\n",
       "    <tr>\n",
       "      <th>1</th>\n",
       "      <td>session876173328405</td>\n",
       "      <td>1</td>\n",
       "    </tr>\n",
       "    <tr>\n",
       "      <th>2</th>\n",
       "      <td>session1382979469382</td>\n",
       "      <td>0</td>\n",
       "    </tr>\n",
       "    <tr>\n",
       "      <th>3</th>\n",
       "      <td>session927712936010</td>\n",
       "      <td>1</td>\n",
       "    </tr>\n",
       "    <tr>\n",
       "      <th>4</th>\n",
       "      <td>session970662608923</td>\n",
       "      <td>1</td>\n",
       "    </tr>\n",
       "  </tbody>\n",
       "</table>\n",
       "</div>"
      ],
      "text/plain": [
       "                     id  order_placed\n",
       "0   session240518168612             1\n",
       "1   session876173328405             1\n",
       "2  session1382979469382             0\n",
       "3   session927712936010             1\n",
       "4   session970662608923             1"
      ]
     },
     "execution_count": 211,
     "metadata": {},
     "output_type": "execute_result"
    }
   ],
   "source": [
    "result=pd.DataFrame({'id': test.id,'order_placed': rslt[:,1].astype(int)})#,columns=[\"id\",\"order_placed\"])\n",
    "\n",
    "result.head()"
   ]
  },
  {
   "cell_type": "code",
   "execution_count": 212,
   "metadata": {},
   "outputs": [],
   "source": [
    "result=result.set_index('id')\n",
    "result.to_csv(\"ans.csv\")"
   ]
  },
  {
   "cell_type": "code",
   "execution_count": 214,
   "metadata": {},
   "outputs": [
    {
     "data": {
      "text/html": [
       "<div>\n",
       "<style scoped>\n",
       "    .dataframe tbody tr th:only-of-type {\n",
       "        vertical-align: middle;\n",
       "    }\n",
       "\n",
       "    .dataframe tbody tr th {\n",
       "        vertical-align: top;\n",
       "    }\n",
       "\n",
       "    .dataframe thead th {\n",
       "        text-align: right;\n",
       "    }\n",
       "</style>\n",
       "<table border=\"1\" class=\"dataframe\">\n",
       "  <thead>\n",
       "    <tr style=\"text-align: right;\">\n",
       "      <th></th>\n",
       "      <th>order_placed</th>\n",
       "    </tr>\n",
       "    <tr>\n",
       "      <th>id</th>\n",
       "      <th></th>\n",
       "    </tr>\n",
       "  </thead>\n",
       "  <tbody>\n",
       "    <tr>\n",
       "      <th>session240518168612</th>\n",
       "      <td>1</td>\n",
       "    </tr>\n",
       "    <tr>\n",
       "      <th>session876173328405</th>\n",
       "      <td>1</td>\n",
       "    </tr>\n",
       "    <tr>\n",
       "      <th>session1382979469382</th>\n",
       "      <td>0</td>\n",
       "    </tr>\n",
       "    <tr>\n",
       "      <th>session927712936010</th>\n",
       "      <td>1</td>\n",
       "    </tr>\n",
       "    <tr>\n",
       "      <th>session970662608923</th>\n",
       "      <td>1</td>\n",
       "    </tr>\n",
       "  </tbody>\n",
       "</table>\n",
       "</div>"
      ],
      "text/plain": [
       "                      order_placed\n",
       "id                                \n",
       "session240518168612              1\n",
       "session876173328405              1\n",
       "session1382979469382             0\n",
       "session927712936010              1\n",
       "session970662608923              1"
      ]
     },
     "execution_count": 214,
     "metadata": {},
     "output_type": "execute_result"
    }
   ],
   "source": [
    "result.head()"
   ]
  },
  {
   "cell_type": "code",
   "execution_count": null,
   "metadata": {},
   "outputs": [],
   "source": []
  }
 ],
 "metadata": {
  "kernelspec": {
   "display_name": "Python 3",
   "language": "python",
   "name": "python3"
  },
  "language_info": {
   "codemirror_mode": {
    "name": "ipython",
    "version": 3
   },
   "file_extension": ".py",
   "mimetype": "text/x-python",
   "name": "python",
   "nbconvert_exporter": "python",
   "pygments_lexer": "ipython3",
   "version": "3.7.0"
  }
 },
 "nbformat": 4,
 "nbformat_minor": 2
}
